{
 "cells": [
  {
   "cell_type": "markdown",
   "id": "cca27ec4",
   "metadata": {},
   "source": [
    "# Supervised Machine Learning in Python"
   ]
  },
  {
   "cell_type": "markdown",
   "id": "cefd9f4b",
   "metadata": {},
   "source": [
    "## Supervised Machine Learning"
   ]
  },
  {
   "cell_type": "code",
   "execution_count": 40,
   "id": "afc5acf2",
   "metadata": {},
   "outputs": [],
   "source": [
    "# library for basic program to deploy data and manipulation data\n",
    "import pandas as pd\n",
    "import numpy as np \n",
    "\n",
    "# library for splot the data and metric analysis\n",
    "from sklearn.model_selection import train_test_split\n",
    "from sklearn.metrics import mean_squared_error\n",
    "from sklearn.metrics import r2_score \n",
    "\n",
    "# library for preparing machine learning \n",
    "from sklearn.compose import ColumnTransformer\n",
    "from sklearn.pipeline import Pipeline\n",
    "from sklearn.impute import SimpleImputer\n",
    "from sklearn.preprocessing import StandardScaler, OneHotEncoder\n",
    "from sklearn.linear_model import LogisticRegression\n",
    "from sklearn.model_selection import train_test_split, GridSearchCV\n",
    "\n",
    "# Machine Learning Library \n",
    "from sklearn.tree import DecisionTreeRegressor\n",
    "from sklearn.ensemble import RandomForestRegressor\n",
    "from sklearn.neighbors import KNeighborsRegressor\n",
    "from sklearn.model_selection import RandomizedSearchCV\n",
    "from sklearn.preprocessing import StandardScaler"
   ]
  },
  {
   "cell_type": "markdown",
   "id": "de25a217",
   "metadata": {},
   "source": [
    "Import Data"
   ]
  },
  {
   "cell_type": "code",
   "execution_count": 2,
   "id": "d88d1883",
   "metadata": {},
   "outputs": [],
   "source": [
    "df = pd.read_csv('reg_data.csv')"
   ]
  },
  {
   "cell_type": "code",
   "execution_count": 5,
   "id": "e030e8ea",
   "metadata": {},
   "outputs": [
    {
     "data": {
      "text/html": [
       "<div>\n",
       "<style scoped>\n",
       "    .dataframe tbody tr th:only-of-type {\n",
       "        vertical-align: middle;\n",
       "    }\n",
       "\n",
       "    .dataframe tbody tr th {\n",
       "        vertical-align: top;\n",
       "    }\n",
       "\n",
       "    .dataframe thead th {\n",
       "        text-align: right;\n",
       "    }\n",
       "</style>\n",
       "<table border=\"1\" class=\"dataframe\">\n",
       "  <thead>\n",
       "    <tr style=\"text-align: right;\">\n",
       "      <th></th>\n",
       "      <th>Suburb</th>\n",
       "      <th>Address</th>\n",
       "      <th>Rooms</th>\n",
       "      <th>Type</th>\n",
       "      <th>Price</th>\n",
       "      <th>Method</th>\n",
       "      <th>SellerG</th>\n",
       "      <th>Date</th>\n",
       "      <th>Distance</th>\n",
       "      <th>Postcode</th>\n",
       "      <th>...</th>\n",
       "      <th>Bathroom</th>\n",
       "      <th>Car</th>\n",
       "      <th>Landsize</th>\n",
       "      <th>BuildingArea</th>\n",
       "      <th>YearBuilt</th>\n",
       "      <th>CouncilArea</th>\n",
       "      <th>Lattitude</th>\n",
       "      <th>Longtitude</th>\n",
       "      <th>Regionname</th>\n",
       "      <th>Propertycount</th>\n",
       "    </tr>\n",
       "  </thead>\n",
       "  <tbody>\n",
       "    <tr>\n",
       "      <th>0</th>\n",
       "      <td>Abbotsford</td>\n",
       "      <td>25 Bloomburg St</td>\n",
       "      <td>2</td>\n",
       "      <td>h</td>\n",
       "      <td>1035000.0</td>\n",
       "      <td>S</td>\n",
       "      <td>Biggin</td>\n",
       "      <td>4/02/2016</td>\n",
       "      <td>2.5</td>\n",
       "      <td>3067.0</td>\n",
       "      <td>...</td>\n",
       "      <td>1.0</td>\n",
       "      <td>0.0</td>\n",
       "      <td>156.0</td>\n",
       "      <td>79.0</td>\n",
       "      <td>1900.0</td>\n",
       "      <td>Yarra</td>\n",
       "      <td>-37.8079</td>\n",
       "      <td>144.9934</td>\n",
       "      <td>Northern Metropolitan</td>\n",
       "      <td>4019.0</td>\n",
       "    </tr>\n",
       "    <tr>\n",
       "      <th>1</th>\n",
       "      <td>Abbotsford</td>\n",
       "      <td>5 Charles St</td>\n",
       "      <td>3</td>\n",
       "      <td>h</td>\n",
       "      <td>1465000.0</td>\n",
       "      <td>SP</td>\n",
       "      <td>Biggin</td>\n",
       "      <td>4/03/2017</td>\n",
       "      <td>2.5</td>\n",
       "      <td>3067.0</td>\n",
       "      <td>...</td>\n",
       "      <td>2.0</td>\n",
       "      <td>0.0</td>\n",
       "      <td>134.0</td>\n",
       "      <td>150.0</td>\n",
       "      <td>1900.0</td>\n",
       "      <td>Yarra</td>\n",
       "      <td>-37.8093</td>\n",
       "      <td>144.9944</td>\n",
       "      <td>Northern Metropolitan</td>\n",
       "      <td>4019.0</td>\n",
       "    </tr>\n",
       "    <tr>\n",
       "      <th>2</th>\n",
       "      <td>Abbotsford</td>\n",
       "      <td>55a Park St</td>\n",
       "      <td>4</td>\n",
       "      <td>h</td>\n",
       "      <td>1600000.0</td>\n",
       "      <td>VB</td>\n",
       "      <td>Nelson</td>\n",
       "      <td>4/06/2016</td>\n",
       "      <td>2.5</td>\n",
       "      <td>3067.0</td>\n",
       "      <td>...</td>\n",
       "      <td>1.0</td>\n",
       "      <td>2.0</td>\n",
       "      <td>120.0</td>\n",
       "      <td>142.0</td>\n",
       "      <td>2014.0</td>\n",
       "      <td>Yarra</td>\n",
       "      <td>-37.8072</td>\n",
       "      <td>144.9941</td>\n",
       "      <td>Northern Metropolitan</td>\n",
       "      <td>4019.0</td>\n",
       "    </tr>\n",
       "    <tr>\n",
       "      <th>3</th>\n",
       "      <td>Abbotsford</td>\n",
       "      <td>124 Yarra St</td>\n",
       "      <td>3</td>\n",
       "      <td>h</td>\n",
       "      <td>1876000.0</td>\n",
       "      <td>S</td>\n",
       "      <td>Nelson</td>\n",
       "      <td>7/05/2016</td>\n",
       "      <td>2.5</td>\n",
       "      <td>3067.0</td>\n",
       "      <td>...</td>\n",
       "      <td>2.0</td>\n",
       "      <td>0.0</td>\n",
       "      <td>245.0</td>\n",
       "      <td>210.0</td>\n",
       "      <td>1910.0</td>\n",
       "      <td>Yarra</td>\n",
       "      <td>-37.8024</td>\n",
       "      <td>144.9993</td>\n",
       "      <td>Northern Metropolitan</td>\n",
       "      <td>4019.0</td>\n",
       "    </tr>\n",
       "    <tr>\n",
       "      <th>4</th>\n",
       "      <td>Abbotsford</td>\n",
       "      <td>98 Charles St</td>\n",
       "      <td>2</td>\n",
       "      <td>h</td>\n",
       "      <td>1636000.0</td>\n",
       "      <td>S</td>\n",
       "      <td>Nelson</td>\n",
       "      <td>8/10/2016</td>\n",
       "      <td>2.5</td>\n",
       "      <td>3067.0</td>\n",
       "      <td>...</td>\n",
       "      <td>1.0</td>\n",
       "      <td>2.0</td>\n",
       "      <td>256.0</td>\n",
       "      <td>107.0</td>\n",
       "      <td>1890.0</td>\n",
       "      <td>Yarra</td>\n",
       "      <td>-37.8060</td>\n",
       "      <td>144.9954</td>\n",
       "      <td>Northern Metropolitan</td>\n",
       "      <td>4019.0</td>\n",
       "    </tr>\n",
       "  </tbody>\n",
       "</table>\n",
       "<p>5 rows × 21 columns</p>\n",
       "</div>"
      ],
      "text/plain": [
       "       Suburb          Address  Rooms Type      Price Method SellerG  \\\n",
       "0  Abbotsford  25 Bloomburg St      2    h  1035000.0      S  Biggin   \n",
       "1  Abbotsford     5 Charles St      3    h  1465000.0     SP  Biggin   \n",
       "2  Abbotsford      55a Park St      4    h  1600000.0     VB  Nelson   \n",
       "3  Abbotsford     124 Yarra St      3    h  1876000.0      S  Nelson   \n",
       "4  Abbotsford    98 Charles St      2    h  1636000.0      S  Nelson   \n",
       "\n",
       "        Date  Distance  Postcode  ...  Bathroom  Car  Landsize  BuildingArea  \\\n",
       "0  4/02/2016       2.5    3067.0  ...       1.0  0.0     156.0          79.0   \n",
       "1  4/03/2017       2.5    3067.0  ...       2.0  0.0     134.0         150.0   \n",
       "2  4/06/2016       2.5    3067.0  ...       1.0  2.0     120.0         142.0   \n",
       "3  7/05/2016       2.5    3067.0  ...       2.0  0.0     245.0         210.0   \n",
       "4  8/10/2016       2.5    3067.0  ...       1.0  2.0     256.0         107.0   \n",
       "\n",
       "   YearBuilt  CouncilArea Lattitude  Longtitude             Regionname  \\\n",
       "0     1900.0        Yarra  -37.8079    144.9934  Northern Metropolitan   \n",
       "1     1900.0        Yarra  -37.8093    144.9944  Northern Metropolitan   \n",
       "2     2014.0        Yarra  -37.8072    144.9941  Northern Metropolitan   \n",
       "3     1910.0        Yarra  -37.8024    144.9993  Northern Metropolitan   \n",
       "4     1890.0        Yarra  -37.8060    144.9954  Northern Metropolitan   \n",
       "\n",
       "  Propertycount  \n",
       "0        4019.0  \n",
       "1        4019.0  \n",
       "2        4019.0  \n",
       "3        4019.0  \n",
       "4        4019.0  \n",
       "\n",
       "[5 rows x 21 columns]"
      ]
     },
     "execution_count": 5,
     "metadata": {},
     "output_type": "execute_result"
    }
   ],
   "source": [
    "# for quick analysis data\n",
    "df.head()"
   ]
  },
  {
   "cell_type": "code",
   "execution_count": 6,
   "id": "1c520c10",
   "metadata": {},
   "outputs": [
    {
     "data": {
      "text/plain": [
       "Index(['Suburb', 'Address', 'Rooms', 'Type', 'Price', 'Method', 'SellerG',\n",
       "       'Date', 'Distance', 'Postcode', 'Bedroom2', 'Bathroom', 'Car',\n",
       "       'Landsize', 'BuildingArea', 'YearBuilt', 'CouncilArea', 'Lattitude',\n",
       "       'Longtitude', 'Regionname', 'Propertycount'],\n",
       "      dtype='object')"
      ]
     },
     "execution_count": 6,
     "metadata": {},
     "output_type": "execute_result"
    }
   ],
   "source": [
    "df.columns"
   ]
  },
  {
   "cell_type": "markdown",
   "id": "d7d194a7",
   "metadata": {},
   "source": [
    "### 1. Simpled Supervised Macine Learning"
   ]
  },
  {
   "cell_type": "code",
   "execution_count": 7,
   "id": "fc036a02",
   "metadata": {},
   "outputs": [],
   "source": [
    "y = df[['Price']]\n",
    "x = df[['Rooms', 'Bedroom2', 'Bathroom', 'Landsize']]"
   ]
  },
  {
   "cell_type": "code",
   "execution_count": 8,
   "id": "ca328643",
   "metadata": {},
   "outputs": [
    {
     "data": {
      "text/plain": [
       "(6196, 1)"
      ]
     },
     "execution_count": 8,
     "metadata": {},
     "output_type": "execute_result"
    }
   ],
   "source": [
    "y.shape"
   ]
  },
  {
   "cell_type": "code",
   "execution_count": 9,
   "id": "318b320f",
   "metadata": {},
   "outputs": [],
   "source": [
    "x_train, x_test, y_train, y_test = train_test_split(x, y, test_size = 0.25, random_state = 10)"
   ]
  },
  {
   "cell_type": "markdown",
   "id": "7da2f13d",
   "metadata": {},
   "source": [
    "#### Decision Tree Regression"
   ]
  },
  {
   "cell_type": "code",
   "execution_count": 12,
   "id": "8d6e6472",
   "metadata": {},
   "outputs": [
    {
     "data": {
      "text/plain": [
       "array([1297500.        , 1400000.        ,  563769.39226519,\n",
       "        900000.        , 1240000.        ])"
      ]
     },
     "execution_count": 12,
     "metadata": {},
     "output_type": "execute_result"
    }
   ],
   "source": [
    "dt = DecisionTreeRegressor()\n",
    "dt.fit(x_train, y_train)\n",
    "### cara melakukan prediksi ke data baru\n",
    "dt.predict(x_test.head())"
   ]
  },
  {
   "cell_type": "code",
   "execution_count": 15,
   "id": "45dca91b",
   "metadata": {},
   "outputs": [
    {
     "name": "stdout",
     "output_type": "stream",
     "text": [
      "RMSE: 681502.4516959714\n",
      "R2 Score: 0.0051562387048949\n"
     ]
    }
   ],
   "source": [
    "y_pred = dt.predict(x_test)\n",
    "print('RMSE:', np.sqrt(mean_squared_error(y_test, y_pred)))\n",
    "print('R2 Score:', r2_score(y_test, y_pred))"
   ]
  },
  {
   "cell_type": "markdown",
   "id": "3254d5d0",
   "metadata": {},
   "source": [
    "#### Random Forest Regression"
   ]
  },
  {
   "cell_type": "code",
   "execution_count": 16,
   "id": "358c80d3",
   "metadata": {},
   "outputs": [
    {
     "name": "stdout",
     "output_type": "stream",
     "text": [
      "RMSE: 600403.7945485302\n",
      "R2 Score: 0.22784072516907183\n"
     ]
    }
   ],
   "source": [
    "rf = RandomForestRegressor()\n",
    "rf.fit(x_train, y_train.values.ravel())\n",
    "y_pred = rf.predict(x_test)\n",
    "\n",
    "print('RMSE:', np.sqrt(mean_squared_error(y_test, y_pred)))\n",
    "print('R2 Score:', r2_score(y_test, y_pred))"
   ]
  },
  {
   "cell_type": "markdown",
   "id": "4f098d77",
   "metadata": {},
   "source": [
    "#### K-Nearest-Neighbor Regression"
   ]
  },
  {
   "cell_type": "code",
   "execution_count": 17,
   "id": "09114bd4",
   "metadata": {},
   "outputs": [
    {
     "name": "stdout",
     "output_type": "stream",
     "text": [
      "RMSE: 621528.3788105733\n",
      "R2 Score: 0.17254961548116332\n"
     ]
    }
   ],
   "source": [
    "knn = KNeighborsRegressor()\n",
    "knn.fit(x_train, y_train.values.ravel())\n",
    "y_pred = knn.predict(x_test)\n",
    "\n",
    "print('RMSE:', np.sqrt(mean_squared_error(y_test, y_pred)))\n",
    "print('R2 Score:', r2_score(y_test, y_pred))"
   ]
  },
  {
   "cell_type": "markdown",
   "id": "a6341b65",
   "metadata": {},
   "source": [
    "In Simple Supervised Regression that we know `Random Forest Regression` have high accuracy, so this model is the best model.\n",
    "But as we know `R2 Score` must have value between 0-1, that means more closer to value 1 its the better match between prediction and real value data. "
   ]
  },
  {
   "cell_type": "markdown",
   "id": "b6cbce49",
   "metadata": {},
   "source": [
    "### 2. Intermediate Supervised Regression"
   ]
  },
  {
   "cell_type": "markdown",
   "id": "0283a31f",
   "metadata": {},
   "source": [
    "#### 1. Extra Model with Encoder"
   ]
  },
  {
   "cell_type": "code",
   "execution_count": 94,
   "id": "38449a19",
   "metadata": {},
   "outputs": [],
   "source": [
    "# split to chategorical and numeric coloumn\n",
    "categorical = ['Type', 'CouncilArea', 'Regionname']\n",
    "numeric = ['Rooms', 'Distance', 'Bedroom2', 'Bathroom', 'Car', 'Landsize', 'BuildingArea', \n",
    "      'YearBuilt', 'Lattitude', 'Longtitude', 'Propertycount']"
   ]
  },
  {
   "cell_type": "code",
   "execution_count": 100,
   "id": "830abd7e",
   "metadata": {},
   "outputs": [],
   "source": [
    "x = df[['Type', 'Postcode', 'CouncilArea', 'Regionname','Rooms', 'Distance', 'Bedroom2', 'Bathroom', 'Car', 'Landsize', 'BuildingArea', \n",
    "      'YearBuilt', 'Lattitude', 'Longtitude', 'Propertycount']]\n",
    "\n",
    "y = df[['Price']]\n",
    "\n",
    "x_train, x_test, y_train, y_test = train_test_split(x, y, test_size = 0.25, random_state = 6)"
   ]
  },
  {
   "cell_type": "code",
   "execution_count": 101,
   "id": "738b5187",
   "metadata": {},
   "outputs": [
    {
     "data": {
      "text/html": [
       "<div>\n",
       "<style scoped>\n",
       "    .dataframe tbody tr th:only-of-type {\n",
       "        vertical-align: middle;\n",
       "    }\n",
       "\n",
       "    .dataframe tbody tr th {\n",
       "        vertical-align: top;\n",
       "    }\n",
       "\n",
       "    .dataframe thead th {\n",
       "        text-align: right;\n",
       "    }\n",
       "</style>\n",
       "<table border=\"1\" class=\"dataframe\">\n",
       "  <thead>\n",
       "    <tr style=\"text-align: right;\">\n",
       "      <th></th>\n",
       "      <th>Type</th>\n",
       "      <th>Postcode</th>\n",
       "      <th>CouncilArea</th>\n",
       "      <th>Regionname</th>\n",
       "      <th>Rooms</th>\n",
       "      <th>Distance</th>\n",
       "      <th>Bedroom2</th>\n",
       "      <th>Bathroom</th>\n",
       "      <th>Car</th>\n",
       "      <th>Landsize</th>\n",
       "      <th>BuildingArea</th>\n",
       "      <th>YearBuilt</th>\n",
       "      <th>Lattitude</th>\n",
       "      <th>Longtitude</th>\n",
       "      <th>Propertycount</th>\n",
       "    </tr>\n",
       "  </thead>\n",
       "  <tbody>\n",
       "    <tr>\n",
       "      <th>711</th>\n",
       "      <td>u</td>\n",
       "      <td>3056.0</td>\n",
       "      <td>Moreland</td>\n",
       "      <td>Northern Metropolitan</td>\n",
       "      <td>2</td>\n",
       "      <td>5.2</td>\n",
       "      <td>2.0</td>\n",
       "      <td>1.0</td>\n",
       "      <td>1.0</td>\n",
       "      <td>1140.0</td>\n",
       "      <td>80.0000</td>\n",
       "      <td>2010.0</td>\n",
       "      <td>-37.76340</td>\n",
       "      <td>144.96160</td>\n",
       "      <td>11918.0</td>\n",
       "    </tr>\n",
       "    <tr>\n",
       "      <th>5863</th>\n",
       "      <td>h</td>\n",
       "      <td>3049.0</td>\n",
       "      <td>Hume</td>\n",
       "      <td>Northern Metropolitan</td>\n",
       "      <td>3</td>\n",
       "      <td>16.5</td>\n",
       "      <td>3.0</td>\n",
       "      <td>2.0</td>\n",
       "      <td>2.0</td>\n",
       "      <td>898.0</td>\n",
       "      <td>142.0000</td>\n",
       "      <td>1985.0</td>\n",
       "      <td>-37.67823</td>\n",
       "      <td>144.90002</td>\n",
       "      <td>2474.0</td>\n",
       "    </tr>\n",
       "    <tr>\n",
       "      <th>4809</th>\n",
       "      <td>h</td>\n",
       "      <td>3138.0</td>\n",
       "      <td>Yarra Ranges</td>\n",
       "      <td>Eastern Victoria</td>\n",
       "      <td>3</td>\n",
       "      <td>26.5</td>\n",
       "      <td>3.0</td>\n",
       "      <td>2.0</td>\n",
       "      <td>2.0</td>\n",
       "      <td>947.0</td>\n",
       "      <td>104.0000</td>\n",
       "      <td>1978.0</td>\n",
       "      <td>-37.76517</td>\n",
       "      <td>145.32980</td>\n",
       "      <td>8280.0</td>\n",
       "    </tr>\n",
       "    <tr>\n",
       "      <th>5485</th>\n",
       "      <td>h</td>\n",
       "      <td>3082.0</td>\n",
       "      <td>Whittlesea</td>\n",
       "      <td>Northern Metropolitan</td>\n",
       "      <td>3</td>\n",
       "      <td>17.9</td>\n",
       "      <td>3.0</td>\n",
       "      <td>2.0</td>\n",
       "      <td>2.0</td>\n",
       "      <td>840.0</td>\n",
       "      <td>161.0000</td>\n",
       "      <td>1970.0</td>\n",
       "      <td>-37.67391</td>\n",
       "      <td>145.06180</td>\n",
       "      <td>10529.0</td>\n",
       "    </tr>\n",
       "    <tr>\n",
       "      <th>5854</th>\n",
       "      <td>u</td>\n",
       "      <td>3032.0</td>\n",
       "      <td>Moonee Valley</td>\n",
       "      <td>Western Metropolitan</td>\n",
       "      <td>2</td>\n",
       "      <td>4.3</td>\n",
       "      <td>2.0</td>\n",
       "      <td>1.0</td>\n",
       "      <td>1.0</td>\n",
       "      <td>16000.0</td>\n",
       "      <td>68.5000</td>\n",
       "      <td>2012.0</td>\n",
       "      <td>-37.78466</td>\n",
       "      <td>144.93829</td>\n",
       "      <td>1052.0</td>\n",
       "    </tr>\n",
       "    <tr>\n",
       "      <th>...</th>\n",
       "      <td>...</td>\n",
       "      <td>...</td>\n",
       "      <td>...</td>\n",
       "      <td>...</td>\n",
       "      <td>...</td>\n",
       "      <td>...</td>\n",
       "      <td>...</td>\n",
       "      <td>...</td>\n",
       "      <td>...</td>\n",
       "      <td>...</td>\n",
       "      <td>...</td>\n",
       "      <td>...</td>\n",
       "      <td>...</td>\n",
       "      <td>...</td>\n",
       "      <td>...</td>\n",
       "    </tr>\n",
       "    <tr>\n",
       "      <th>2597</th>\n",
       "      <td>h</td>\n",
       "      <td>3207.0</td>\n",
       "      <td>Melbourne</td>\n",
       "      <td>Southern Metropolitan</td>\n",
       "      <td>2</td>\n",
       "      <td>3.8</td>\n",
       "      <td>2.0</td>\n",
       "      <td>2.0</td>\n",
       "      <td>0.0</td>\n",
       "      <td>96.0</td>\n",
       "      <td>108.0000</td>\n",
       "      <td>1890.0</td>\n",
       "      <td>-37.83270</td>\n",
       "      <td>144.94740</td>\n",
       "      <td>8648.0</td>\n",
       "    </tr>\n",
       "    <tr>\n",
       "      <th>1205</th>\n",
       "      <td>h</td>\n",
       "      <td>3108.0</td>\n",
       "      <td>Manningham</td>\n",
       "      <td>Eastern Metropolitan</td>\n",
       "      <td>4</td>\n",
       "      <td>13.9</td>\n",
       "      <td>4.0</td>\n",
       "      <td>2.0</td>\n",
       "      <td>4.0</td>\n",
       "      <td>769.0</td>\n",
       "      <td>240.0000</td>\n",
       "      <td>1970.0</td>\n",
       "      <td>-37.77810</td>\n",
       "      <td>145.13370</td>\n",
       "      <td>9028.0</td>\n",
       "    </tr>\n",
       "    <tr>\n",
       "      <th>2656</th>\n",
       "      <td>h</td>\n",
       "      <td>3181.0</td>\n",
       "      <td>Stonnington</td>\n",
       "      <td>Southern Metropolitan</td>\n",
       "      <td>2</td>\n",
       "      <td>4.5</td>\n",
       "      <td>2.0</td>\n",
       "      <td>1.0</td>\n",
       "      <td>0.0</td>\n",
       "      <td>141.0</td>\n",
       "      <td>72.0000</td>\n",
       "      <td>1900.0</td>\n",
       "      <td>-37.85200</td>\n",
       "      <td>145.00610</td>\n",
       "      <td>7717.0</td>\n",
       "    </tr>\n",
       "    <tr>\n",
       "      <th>5484</th>\n",
       "      <td>t</td>\n",
       "      <td>3194.0</td>\n",
       "      <td>Kingston</td>\n",
       "      <td>South-Eastern Metropolitan</td>\n",
       "      <td>3</td>\n",
       "      <td>20.0</td>\n",
       "      <td>3.0</td>\n",
       "      <td>1.0</td>\n",
       "      <td>2.0</td>\n",
       "      <td>331.0</td>\n",
       "      <td>157.9352</td>\n",
       "      <td>1989.0</td>\n",
       "      <td>-37.97759</td>\n",
       "      <td>145.06482</td>\n",
       "      <td>6162.0</td>\n",
       "    </tr>\n",
       "    <tr>\n",
       "      <th>1415</th>\n",
       "      <td>h</td>\n",
       "      <td>3065.0</td>\n",
       "      <td>Yarra</td>\n",
       "      <td>Northern Metropolitan</td>\n",
       "      <td>2</td>\n",
       "      <td>1.6</td>\n",
       "      <td>2.0</td>\n",
       "      <td>1.0</td>\n",
       "      <td>0.0</td>\n",
       "      <td>106.0</td>\n",
       "      <td>101.0000</td>\n",
       "      <td>1890.0</td>\n",
       "      <td>-37.79680</td>\n",
       "      <td>144.97810</td>\n",
       "      <td>5825.0</td>\n",
       "    </tr>\n",
       "  </tbody>\n",
       "</table>\n",
       "<p>1549 rows × 15 columns</p>\n",
       "</div>"
      ],
      "text/plain": [
       "     Type  Postcode    CouncilArea                  Regionname  Rooms  \\\n",
       "711     u    3056.0       Moreland       Northern Metropolitan      2   \n",
       "5863    h    3049.0           Hume       Northern Metropolitan      3   \n",
       "4809    h    3138.0   Yarra Ranges            Eastern Victoria      3   \n",
       "5485    h    3082.0     Whittlesea       Northern Metropolitan      3   \n",
       "5854    u    3032.0  Moonee Valley        Western Metropolitan      2   \n",
       "...   ...       ...            ...                         ...    ...   \n",
       "2597    h    3207.0      Melbourne       Southern Metropolitan      2   \n",
       "1205    h    3108.0     Manningham        Eastern Metropolitan      4   \n",
       "2656    h    3181.0    Stonnington       Southern Metropolitan      2   \n",
       "5484    t    3194.0       Kingston  South-Eastern Metropolitan      3   \n",
       "1415    h    3065.0          Yarra       Northern Metropolitan      2   \n",
       "\n",
       "      Distance  Bedroom2  Bathroom  Car  Landsize  BuildingArea  YearBuilt  \\\n",
       "711        5.2       2.0       1.0  1.0    1140.0       80.0000     2010.0   \n",
       "5863      16.5       3.0       2.0  2.0     898.0      142.0000     1985.0   \n",
       "4809      26.5       3.0       2.0  2.0     947.0      104.0000     1978.0   \n",
       "5485      17.9       3.0       2.0  2.0     840.0      161.0000     1970.0   \n",
       "5854       4.3       2.0       1.0  1.0   16000.0       68.5000     2012.0   \n",
       "...        ...       ...       ...  ...       ...           ...        ...   \n",
       "2597       3.8       2.0       2.0  0.0      96.0      108.0000     1890.0   \n",
       "1205      13.9       4.0       2.0  4.0     769.0      240.0000     1970.0   \n",
       "2656       4.5       2.0       1.0  0.0     141.0       72.0000     1900.0   \n",
       "5484      20.0       3.0       1.0  2.0     331.0      157.9352     1989.0   \n",
       "1415       1.6       2.0       1.0  0.0     106.0      101.0000     1890.0   \n",
       "\n",
       "      Lattitude  Longtitude  Propertycount  \n",
       "711   -37.76340   144.96160        11918.0  \n",
       "5863  -37.67823   144.90002         2474.0  \n",
       "4809  -37.76517   145.32980         8280.0  \n",
       "5485  -37.67391   145.06180        10529.0  \n",
       "5854  -37.78466   144.93829         1052.0  \n",
       "...         ...         ...            ...  \n",
       "2597  -37.83270   144.94740         8648.0  \n",
       "1205  -37.77810   145.13370         9028.0  \n",
       "2656  -37.85200   145.00610         7717.0  \n",
       "5484  -37.97759   145.06482         6162.0  \n",
       "1415  -37.79680   144.97810         5825.0  \n",
       "\n",
       "[1549 rows x 15 columns]"
      ]
     },
     "execution_count": 101,
     "metadata": {},
     "output_type": "execute_result"
    }
   ],
   "source": [
    "x_test"
   ]
  },
  {
   "cell_type": "code",
   "execution_count": 102,
   "id": "5e536ffd",
   "metadata": {},
   "outputs": [],
   "source": [
    "cat_transform = OneHotEncoder(handle_unknown = 'ignore', sparse=False)\n",
    "\n",
    "preprocessor = ColumnTransformer(\n",
    "    transformers = [\n",
    "        (\"categorical_encoder\", cat_transform, categorical)\n",
    "    ]\n",
    ")\n",
    "\n",
    "dt_reg = Pipeline(\n",
    "    steps=[(\"preprocessor\", preprocessor), (\"regressor\", DecisionTreeRegressor(random_state = 6))]\n",
    ")\n",
    "\n",
    "rf_reg = Pipeline(\n",
    "    steps=[(\"preprocessor\", preprocessor), (\"regressor\", RandomForestRegressor(random_state = 6))]\n",
    ")\n",
    "\n",
    "kn_reg = Pipeline(\n",
    "    steps=[(\"preprocessor\", preprocessor), (\"regressor\", KNeighborsRegressor())]\n",
    ")\n"
   ]
  },
  {
   "cell_type": "code",
   "execution_count": 103,
   "id": "166fac66",
   "metadata": {},
   "outputs": [],
   "source": [
    "def fit_evaluate(model):\n",
    "    model.fit(x_train, y_train)\n",
    "    y_pred = model.predict(x_test)\n",
    "    print('RMSE:', np.sqrt(mean_squared_error(y_test, y_pred)))\n",
    "    print('R2 Score:',  r2_score(y_test, y_pred))"
   ]
  },
  {
   "cell_type": "code",
   "execution_count": 104,
   "id": "8747b62f",
   "metadata": {},
   "outputs": [
    {
     "name": "stdout",
     "output_type": "stream",
     "text": [
      "RMSE: 418344.67673585605\n",
      "R2 Score: 0.5540948577940608\n"
     ]
    }
   ],
   "source": [
    "fit_evaluate(dt_reg)"
   ]
  },
  {
   "cell_type": "code",
   "execution_count": 105,
   "id": "509f7467",
   "metadata": {},
   "outputs": [
    {
     "name": "stderr",
     "output_type": "stream",
     "text": [
      "C:\\Users\\HP\\anaconda3\\lib\\site-packages\\sklearn\\pipeline.py:346: DataConversionWarning: A column-vector y was passed when a 1d array was expected. Please change the shape of y to (n_samples,), for example using ravel().\n",
      "  self._final_estimator.fit(Xt, y, **fit_params_last_step)\n"
     ]
    },
    {
     "name": "stdout",
     "output_type": "stream",
     "text": [
      "RMSE: 418268.9719165804\n",
      "R2 Score: 0.5542562276676899\n"
     ]
    }
   ],
   "source": [
    "fit_evaluate(rf_reg)"
   ]
  },
  {
   "cell_type": "code",
   "execution_count": 106,
   "id": "b6682ba7",
   "metadata": {},
   "outputs": [
    {
     "name": "stdout",
     "output_type": "stream",
     "text": [
      "RMSE: 457710.5033009125\n",
      "R2 Score: 0.4662280551910072\n"
     ]
    }
   ],
   "source": [
    "fit_evaluate(kn_reg)"
   ]
  },
  {
   "cell_type": "markdown",
   "id": "377ab09b",
   "metadata": {},
   "source": [
    "In this regression that we know `Random Forest Regression` have high accuracy, so this model is the best model just like previous regression without Encoder.\n",
    "But we can re-process the data to be even better by giving a scale to every features in the data, this process to get more accuracy and get more predictable data."
   ]
  },
  {
   "cell_type": "markdown",
   "id": "0c7c59a7",
   "metadata": {},
   "source": [
    "#### 2. Extra Model with Scalling"
   ]
  },
  {
   "cell_type": "code",
   "execution_count": 107,
   "id": "c5f31410",
   "metadata": {},
   "outputs": [],
   "source": [
    "cat_transform = OneHotEncoder(handle_unknown = 'ignore', sparse=False)\n",
    "\n",
    "preprocessor = ColumnTransformer(\n",
    "    transformers = [\n",
    "        (\"categorical_encoder\", cat_transform, categorical),\n",
    "        (\"minmax_scaler\", StandardScaler(), numeric)\n",
    "    ]\n",
    ")\n",
    "\n",
    "dt_reg = Pipeline(\n",
    "    steps=[(\"preprocessor\", preprocessor), (\"regressor\", DecisionTreeRegressor())]\n",
    ")\n",
    "\n",
    "rf_reg = Pipeline(\n",
    "    steps=[(\"preprocessor\", preprocessor), (\"regressor\", RandomForestRegressor())]\n",
    ")\n",
    "\n",
    "kn_reg = Pipeline(\n",
    "    steps=[(\"preprocessor\", preprocessor), (\"regressor\", KNeighborsRegressor())]\n",
    ")"
   ]
  },
  {
   "cell_type": "code",
   "execution_count": 108,
   "id": "70314492",
   "metadata": {},
   "outputs": [
    {
     "name": "stdout",
     "output_type": "stream",
     "text": [
      "RMSE: 404375.8866339121\n",
      "R2 Score: 0.5833758055938371\n"
     ]
    }
   ],
   "source": [
    "fit_evaluate(dt_reg)"
   ]
  },
  {
   "cell_type": "code",
   "execution_count": 109,
   "id": "770b6915",
   "metadata": {},
   "outputs": [
    {
     "name": "stderr",
     "output_type": "stream",
     "text": [
      "C:\\Users\\HP\\anaconda3\\lib\\site-packages\\sklearn\\pipeline.py:346: DataConversionWarning: A column-vector y was passed when a 1d array was expected. Please change the shape of y to (n_samples,), for example using ravel().\n",
      "  self._final_estimator.fit(Xt, y, **fit_params_last_step)\n"
     ]
    },
    {
     "name": "stdout",
     "output_type": "stream",
     "text": [
      "RMSE: 259263.35065416922\n",
      "R2 Score: 0.8287398794836043\n"
     ]
    }
   ],
   "source": [
    "fit_evaluate(rf_reg)"
   ]
  },
  {
   "cell_type": "code",
   "execution_count": 110,
   "id": "f2395c0c",
   "metadata": {},
   "outputs": [
    {
     "name": "stdout",
     "output_type": "stream",
     "text": [
      "RMSE: 326097.54408160446\n",
      "R2 Score: 0.7290625478229362\n"
     ]
    }
   ],
   "source": [
    "fit_evaluate(kn_reg)"
   ]
  },
  {
   "cell_type": "markdown",
   "id": "b85eaee3",
   "metadata": {},
   "source": [
    "And again `Random Forest Regression` have high accuracy, so this model is the best model just like previous process.\n",
    "We must get more estimator, so with thah estimator we can get more detail from the data and process."
   ]
  },
  {
   "cell_type": "markdown",
   "id": "3b30d776",
   "metadata": {},
   "source": [
    "## Hyperparameter Tuning"
   ]
  },
  {
   "cell_type": "markdown",
   "id": "29213dc8",
   "metadata": {},
   "source": [
    "### Random Forest"
   ]
  },
  {
   "cell_type": "code",
   "execution_count": 52,
   "id": "a0c4c999",
   "metadata": {},
   "outputs": [
    {
     "data": {
      "text/plain": [
       "{'bootstrap': True,\n",
       " 'ccp_alpha': 0.0,\n",
       " 'criterion': 'mse',\n",
       " 'max_depth': None,\n",
       " 'max_features': 'auto',\n",
       " 'max_leaf_nodes': None,\n",
       " 'max_samples': None,\n",
       " 'min_impurity_decrease': 0.0,\n",
       " 'min_impurity_split': None,\n",
       " 'min_samples_leaf': 1,\n",
       " 'min_samples_split': 2,\n",
       " 'min_weight_fraction_leaf': 0.0,\n",
       " 'n_estimators': 100,\n",
       " 'n_jobs': None,\n",
       " 'oob_score': False,\n",
       " 'random_state': None,\n",
       " 'verbose': 0,\n",
       " 'warm_start': False}"
      ]
     },
     "execution_count": 52,
     "metadata": {},
     "output_type": "execute_result"
    }
   ],
   "source": [
    "RandomForestRegressor().get_params()"
   ]
  },
  {
   "cell_type": "code",
   "execution_count": 53,
   "id": "e1dfdfce",
   "metadata": {},
   "outputs": [],
   "source": [
    "# Number of trees in random forest\n",
    "n_estimators = [int(x) for x in np.linspace(start = 200, stop = 700, num = 50)]\n",
    "# Number of features to consider at every split\n",
    "max_features = ['auto', 'sqrt']\n",
    "# Maximum number of levels in tree\n",
    "max_depth = [int(x) for x in np.linspace(10, 110, num = 11)]\n",
    "max_depth.append(None)\n",
    "# Minimum number of samples required to split a node\n",
    "min_samples_split = [2, 5, 10]\n",
    "# Minimum number of samples required at each leaf node\n",
    "min_samples_leaf = [1, 2, 4]\n",
    "# Method of selecting samples for training each tree\n",
    "bootstrap = [True, False]\n",
    "# Create the random grid\n",
    "random_grid = {'n_estimators': n_estimators,\n",
    "               'max_features': max_features,\n",
    "               'max_depth': max_depth,\n",
    "               'min_samples_split': min_samples_split,\n",
    "               'min_samples_leaf': min_samples_leaf,\n",
    "               'bootstrap': bootstrap}"
   ]
  },
  {
   "cell_type": "code",
   "execution_count": 56,
   "id": "68e44b92",
   "metadata": {},
   "outputs": [
    {
     "data": {
      "text/plain": [
       "Pipeline(steps=[('preprocessor',\n",
       "                 ColumnTransformer(transformers=[('categorical_encoder',\n",
       "                                                  OneHotEncoder(handle_unknown='ignore',\n",
       "                                                                sparse=False),\n",
       "                                                  ['Type', 'CouncilArea',\n",
       "                                                   'Regionname']),\n",
       "                                                 ('minmax_scaler',\n",
       "                                                  StandardScaler(),\n",
       "                                                  ['Rooms', 'Distance',\n",
       "                                                   'Bedroom2', 'Bathroom',\n",
       "                                                   'Car', 'Landsize',\n",
       "                                                   'BuildingArea', 'YearBuilt',\n",
       "                                                   'Lattitude', 'Longtitude',\n",
       "                                                   'Propertycount'])])),\n",
       "                ('regres...\n",
       "                                    n_jobs=-1,\n",
       "                                    param_distributions={'bootstrap': [True,\n",
       "                                                                       False],\n",
       "                                                         'max_depth': [10, 20,\n",
       "                                                                       30, 40,\n",
       "                                                                       50, 60,\n",
       "                                                                       70, 80,\n",
       "                                                                       90, 100,\n",
       "                                                                       110,\n",
       "                                                                       None],\n",
       "                                                         'max_features': ['auto',\n",
       "                                                                          'sqrt'],\n",
       "                                                         'min_samples_leaf': [1,\n",
       "                                                                              2,\n",
       "                                                                              4],\n",
       "                                                         'min_samples_split': [2,\n",
       "                                                                               5,\n",
       "                                                                               10],\n",
       "                                                         'n_estimators': [200,\n",
       "                                                                          210,\n",
       "                                                                          220,\n",
       "                                                                          230,\n",
       "                                                                          240,\n",
       "                                                                          251,\n",
       "                                                                          261,\n",
       "                                                                          271,\n",
       "                                                                          281,\n",
       "                                                                          291,\n",
       "                                                                          302,\n",
       "                                                                          312,\n",
       "                                                                          322,\n",
       "                                                                          332,\n",
       "                                                                          342,\n",
       "                                                                          353,\n",
       "                                                                          363,\n",
       "                                                                          373,\n",
       "                                                                          383,\n",
       "                                                                          393,\n",
       "                                                                          404,\n",
       "                                                                          414,\n",
       "                                                                          424,\n",
       "                                                                          434,\n",
       "                                                                          444,\n",
       "                                                                          455,\n",
       "                                                                          465,\n",
       "                                                                          475,\n",
       "                                                                          485,\n",
       "                                                                          495, ...]},\n",
       "                                    random_state=10))])"
      ]
     },
     "execution_count": 56,
     "metadata": {},
     "output_type": "execute_result"
    }
   ],
   "source": [
    "rf = RandomForestRegressor(n_jobs = -1, random_state = 10)\n",
    "rf_random = RandomizedSearchCV(estimator = rf, \n",
    "                              param_distributions = random_grid,\n",
    "                              n_iter = 10,\n",
    "                              cv = 5,\n",
    "                              random_state = 10,\n",
    "                              n_jobs = -1)\n",
    "\n",
    "rf_reg = Pipeline(\n",
    "    steps=[(\"preprocessor\", preprocessor), (\"regressor\", rf_random)]\n",
    ")\n",
    "\n",
    "rf_reg.fit(x_train, y_train.values.ravel())"
   ]
  },
  {
   "cell_type": "code",
   "execution_count": 57,
   "id": "05171a24",
   "metadata": {},
   "outputs": [
    {
     "data": {
      "text/plain": [
       "{'n_estimators': 485,\n",
       " 'min_samples_split': 2,\n",
       " 'min_samples_leaf': 2,\n",
       " 'max_features': 'sqrt',\n",
       " 'max_depth': 80,\n",
       " 'bootstrap': False}"
      ]
     },
     "execution_count": 57,
     "metadata": {},
     "output_type": "execute_result"
    }
   ],
   "source": [
    "rf_random.best_params_"
   ]
  },
  {
   "cell_type": "code",
   "execution_count": 125,
   "id": "70b66952",
   "metadata": {},
   "outputs": [],
   "source": [
    "final_rf = RandomForestRegressor(n_estimators = 485, min_samples_split = 2, min_samples_leaf = 2,\n",
    "                                max_features = 'sqrt', max_depth = 80, bootstrap = False,\n",
    "                                n_jobs = -1,random_state = 10)\n",
    "\n",
    "final_reg = Pipeline(\n",
    "    steps=[(\"preprocessor\", preprocessor), (\"regressor\", final_rf)]\n",
    ")"
   ]
  },
  {
   "cell_type": "code",
   "execution_count": 126,
   "id": "183f4922",
   "metadata": {},
   "outputs": [
    {
     "name": "stdout",
     "output_type": "stream",
     "text": [
      "RMSE: 240961.3410698212\n",
      "R2 Score: 0.8520657515904142\n"
     ]
    }
   ],
   "source": [
    "final_reg.fit(x_train, y_train.values.ravel())\n",
    "y_pred = final_reg.predict(x_test)\n",
    "print('RMSE:', np.sqrt(mean_squared_error(y_test, y_pred)))\n",
    "print('R2 Score:', r2_score(y_test, y_pred))"
   ]
  },
  {
   "cell_type": "markdown",
   "id": "feca6025",
   "metadata": {},
   "source": [
    "### Decision Tree"
   ]
  },
  {
   "cell_type": "code",
   "execution_count": 62,
   "id": "44b05f4f",
   "metadata": {},
   "outputs": [
    {
     "data": {
      "text/plain": [
       "{'ccp_alpha': 0.0,\n",
       " 'criterion': 'mse',\n",
       " 'max_depth': None,\n",
       " 'max_features': None,\n",
       " 'max_leaf_nodes': None,\n",
       " 'min_impurity_decrease': 0.0,\n",
       " 'min_impurity_split': None,\n",
       " 'min_samples_leaf': 1,\n",
       " 'min_samples_split': 2,\n",
       " 'min_weight_fraction_leaf': 0.0,\n",
       " 'random_state': None,\n",
       " 'splitter': 'best'}"
      ]
     },
     "execution_count": 62,
     "metadata": {},
     "output_type": "execute_result"
    }
   ],
   "source": [
    "DecisionTreeRegressor().get_params()"
   ]
  },
  {
   "cell_type": "code",
   "execution_count": 76,
   "id": "b098372a",
   "metadata": {},
   "outputs": [],
   "source": [
    "# Number of features to consider at every split\n",
    "criterion = ['mse']\n",
    "max_features = ['auto', 'sqrt']\n",
    "max_leaf_nodes = [1,2,4]\n",
    "# Maximum number of levels in tree\n",
    "max_depth = [int(x) for x in np.linspace(10, 110, num = 11)]\n",
    "max_depth.append(None)\n",
    "# Minimum number of samples required to split a node\n",
    "min_samples_split = [2, 5, 10]\n",
    "# Minimum number of samples required at each leaf node\n",
    "min_samples_leaf = [1, 2, 4]\n",
    "\n",
    "# Method of selecting samples for training each tree\n",
    "# Create the random grid\n",
    "random_grid = {'max_features': max_features,\n",
    "               'criterion': criterion,\n",
    "               'max_depth': max_depth,\n",
    "               'min_samples_split': min_samples_split,\n",
    "               'min_samples_leaf': min_samples_leaf,\n",
    "               'max_leaf_nodes': max_leaf_nodes\n",
    "               }"
   ]
  },
  {
   "cell_type": "code",
   "execution_count": 77,
   "id": "25e3a32e",
   "metadata": {},
   "outputs": [
    {
     "name": "stderr",
     "output_type": "stream",
     "text": [
      "C:\\Users\\HP\\anaconda3\\lib\\site-packages\\sklearn\\model_selection\\_search.py:922: UserWarning: One or more of the test scores are non-finite: [0.17564482 0.24946722        nan        nan        nan 0.24946722\n",
      " 0.37870931 0.17564482        nan 0.24946722]\n",
      "  warnings.warn(\n"
     ]
    },
    {
     "data": {
      "text/plain": [
       "Pipeline(steps=[('preprocessor',\n",
       "                 ColumnTransformer(transformers=[('categorical_encoder',\n",
       "                                                  OneHotEncoder(handle_unknown='ignore',\n",
       "                                                                sparse=False),\n",
       "                                                  ['Type', 'CouncilArea',\n",
       "                                                   'Regionname']),\n",
       "                                                 ('minmax_scaler',\n",
       "                                                  StandardScaler(),\n",
       "                                                  ['Rooms', 'Distance',\n",
       "                                                   'Bedroom2', 'Bathroom',\n",
       "                                                   'Car', 'Landsize',\n",
       "                                                   'BuildingArea', 'YearBuilt',\n",
       "                                                   'Lattitude', 'Longtitude',\n",
       "                                                   'Propertycount'])])),\n",
       "                ('regressor',\n",
       "                 RandomizedSearchCV(cv=5,\n",
       "                                    estimator=DecisionTreeRegressor(random_state=10),\n",
       "                                    n_jobs=-1,\n",
       "                                    param_distributions={'criterion': ['mse'],\n",
       "                                                         'max_depth': [10, 20,\n",
       "                                                                       30, 40,\n",
       "                                                                       50, 60,\n",
       "                                                                       70, 80,\n",
       "                                                                       90, 100,\n",
       "                                                                       110,\n",
       "                                                                       None],\n",
       "                                                         'max_features': ['auto',\n",
       "                                                                          'sqrt'],\n",
       "                                                         'max_leaf_nodes': [1,\n",
       "                                                                            2,\n",
       "                                                                            4],\n",
       "                                                         'min_samples_leaf': [1,\n",
       "                                                                              2,\n",
       "                                                                              4],\n",
       "                                                         'min_samples_split': [2,\n",
       "                                                                               5,\n",
       "                                                                               10]},\n",
       "                                    random_state=10))])"
      ]
     },
     "execution_count": 77,
     "metadata": {},
     "output_type": "execute_result"
    }
   ],
   "source": [
    "dt = DecisionTreeRegressor(random_state = 10)\n",
    "dt_random = RandomizedSearchCV(estimator = dt, \n",
    "                              param_distributions = random_grid,\n",
    "                              n_iter = 10,\n",
    "                              cv = 5,\n",
    "                              random_state = 10,\n",
    "                              n_jobs = -1)\n",
    "\n",
    "dt_reg = Pipeline(\n",
    "    steps=[(\"preprocessor\", preprocessor), (\"regressor\", dt_random)]\n",
    ")\n",
    "\n",
    "dt_reg.fit(x_train, y_train.values.ravel())"
   ]
  },
  {
   "cell_type": "code",
   "execution_count": 78,
   "id": "0a86ecc5",
   "metadata": {},
   "outputs": [
    {
     "data": {
      "text/plain": [
       "{'min_samples_split': 2,\n",
       " 'min_samples_leaf': 4,\n",
       " 'max_leaf_nodes': 4,\n",
       " 'max_features': 'sqrt',\n",
       " 'max_depth': 70,\n",
       " 'criterion': 'mse'}"
      ]
     },
     "execution_count": 78,
     "metadata": {},
     "output_type": "execute_result"
    }
   ],
   "source": [
    "dt_random.best_params_"
   ]
  },
  {
   "cell_type": "code",
   "execution_count": 123,
   "id": "b9e00eaa",
   "metadata": {},
   "outputs": [],
   "source": [
    "final_dt = DecisionTreeRegressor(min_samples_split= 2,min_samples_leaf= 4,max_leaf_nodes= 4,max_features='sqrt',\n",
    "                                 max_depth=70,criterion='mse',random_state = 10)\n",
    "\n",
    "final_reg = Pipeline(\n",
    "    steps=[(\"preprocessor\", preprocessor), (\"regressor\", final_dt)]\n",
    ")"
   ]
  },
  {
   "cell_type": "code",
   "execution_count": 124,
   "id": "e01a04e3",
   "metadata": {},
   "outputs": [
    {
     "name": "stdout",
     "output_type": "stream",
     "text": [
      "RMSE: 491364.481717025\n",
      "R2 Score: 0.38484932199195787\n"
     ]
    }
   ],
   "source": [
    "final_reg.fit(x_train, y_train.values.ravel())\n",
    "y_pred = final_reg.predict(x_test)\n",
    "print('RMSE:', np.sqrt(mean_squared_error(y_test, y_pred)))\n",
    "print('R2 Score:', r2_score(y_test, y_pred))"
   ]
  },
  {
   "cell_type": "markdown",
   "id": "b675e14f",
   "metadata": {},
   "source": [
    "### K-Nearest Neighbor"
   ]
  },
  {
   "cell_type": "code",
   "execution_count": 127,
   "id": "c1c04060",
   "metadata": {},
   "outputs": [
    {
     "data": {
      "text/plain": [
       "{'algorithm': 'auto',\n",
       " 'leaf_size': 30,\n",
       " 'metric': 'minkowski',\n",
       " 'metric_params': None,\n",
       " 'n_jobs': None,\n",
       " 'n_neighbors': 5,\n",
       " 'p': 2,\n",
       " 'weights': 'uniform'}"
      ]
     },
     "execution_count": 127,
     "metadata": {},
     "output_type": "execute_result"
    }
   ],
   "source": [
    "KNeighborsRegressor().get_params()"
   ]
  },
  {
   "cell_type": "code",
   "execution_count": 143,
   "id": "24d8d60b",
   "metadata": {},
   "outputs": [],
   "source": [
    "# Number of features to consider at every split\n",
    "algorithm = ['auto']\n",
    "leaf_size = [ 2, 5, 30 ]\n",
    "metric = ['minkowski']\n",
    "metric_params = [None]\n",
    "n_jobs = [-1,1,10]\n",
    "n_neighbors = [1,5,10]\n",
    "p = [2,4,10]\n",
    "weights = ['uniform', 'distance']\n",
    "# Create the random grid\n",
    "random_grid = {'algorithm': algorithm,\n",
    "               'leaf_size': leaf_size,\n",
    "               'metric': metric,\n",
    "               'metric_params': metric_params,\n",
    "               'n_jobs': n_jobs,\n",
    "               'n_neighbors': n_neighbors,\n",
    "               'p' : p,\n",
    "               'weights' : weights\n",
    "               }"
   ]
  },
  {
   "cell_type": "code",
   "execution_count": 144,
   "id": "0531a9f5",
   "metadata": {},
   "outputs": [
    {
     "data": {
      "text/plain": [
       "Pipeline(steps=[('preprocessor',\n",
       "                 ColumnTransformer(transformers=[('categorical_encoder',\n",
       "                                                  OneHotEncoder(handle_unknown='ignore',\n",
       "                                                                sparse=False),\n",
       "                                                  ['Type', 'CouncilArea',\n",
       "                                                   'Regionname']),\n",
       "                                                 ('minmax_scaler',\n",
       "                                                  StandardScaler(),\n",
       "                                                  ['Rooms', 'Distance',\n",
       "                                                   'Bedroom2', 'Bathroom',\n",
       "                                                   'Car', 'Landsize',\n",
       "                                                   'BuildingArea', 'YearBuilt',\n",
       "                                                   'Lattitude', 'Longtitude',\n",
       "                                                   'Propertycount'])])),\n",
       "                ('regressor',\n",
       "                 RandomizedSearchCV(cv=5, estimator=KNeighborsRegressor(),\n",
       "                                    param_distributions={'algorithm': ['auto'],\n",
       "                                                         'leaf_size': [2, 5,\n",
       "                                                                       30],\n",
       "                                                         'metric': ['minkowski'],\n",
       "                                                         'metric_params': [None],\n",
       "                                                         'n_jobs': [-1, 1, 10],\n",
       "                                                         'n_neighbors': [1, 5,\n",
       "                                                                         10],\n",
       "                                                         'p': [2, 4, 10],\n",
       "                                                         'weights': ['uniform',\n",
       "                                                                     'distance']},\n",
       "                                    random_state=10))])"
      ]
     },
     "execution_count": 144,
     "metadata": {},
     "output_type": "execute_result"
    }
   ],
   "source": [
    "kn = KNeighborsRegressor()\n",
    "kn_random = RandomizedSearchCV(estimator = kn, \n",
    "                              param_distributions = random_grid,\n",
    "                              n_iter = 10,\n",
    "                              cv = 5,\n",
    "                              random_state = 10\n",
    "                              )\n",
    "\n",
    "kn_reg = Pipeline(\n",
    "    steps=[(\"preprocessor\", preprocessor), (\"regressor\", kn_random)]\n",
    ")\n",
    "\n",
    "kn_reg.fit(x_train, y_train.values.ravel())"
   ]
  },
  {
   "cell_type": "code",
   "execution_count": 145,
   "id": "4e3c2130",
   "metadata": {},
   "outputs": [
    {
     "data": {
      "text/plain": [
       "{'weights': 'distance',\n",
       " 'p': 2,\n",
       " 'n_neighbors': 5,\n",
       " 'n_jobs': 10,\n",
       " 'metric_params': None,\n",
       " 'metric': 'minkowski',\n",
       " 'leaf_size': 5,\n",
       " 'algorithm': 'auto'}"
      ]
     },
     "execution_count": 145,
     "metadata": {},
     "output_type": "execute_result"
    }
   ],
   "source": [
    "kn_random.best_params_"
   ]
  },
  {
   "cell_type": "code",
   "execution_count": 152,
   "id": "09ba0274",
   "metadata": {},
   "outputs": [
    {
     "name": "stdout",
     "output_type": "stream",
     "text": [
      "RMSE: 324223.94597873895\n",
      "R2 Score: 0.7321669539364548\n"
     ]
    }
   ],
   "source": [
    "final_kn = KNeighborsRegressor(weights = 'distance',p=2, n_neighbors=5,n_jobs = 10,metric_params=None,\n",
    "                                 metric = 'minkowski',leaf_size = 5, algorithm='auto')\n",
    "\n",
    "final_reg = Pipeline(\n",
    "    steps=[(\"preprocessor\", preprocessor), (\"regressor\", final_kn)]\n",
    ")\n",
    "final_reg.fit(x_train, y_train.values.ravel())\n",
    "y_pred = final_reg.predict(x_test)\n",
    "print('RMSE:', np.sqrt(mean_squared_error(y_test, y_pred)))\n",
    "print('R2 Score:', r2_score(y_test, y_pred))"
   ]
  },
  {
   "cell_type": "markdown",
   "id": "d9dd83c7",
   "metadata": {},
   "source": [
    "And this is for the last comparison between best machine learning for data, and again `Random Forest Regression` have high accuracy, so this machine learning model the best predictor from data. "
   ]
  }
 ],
 "metadata": {
  "kernelspec": {
   "display_name": "Python 3 (ipykernel)",
   "language": "python",
   "name": "python3"
  },
  "language_info": {
   "codemirror_mode": {
    "name": "ipython",
    "version": 3
   },
   "file_extension": ".py",
   "mimetype": "text/x-python",
   "name": "python",
   "nbconvert_exporter": "python",
   "pygments_lexer": "ipython3",
   "version": "3.9.7"
  }
 },
 "nbformat": 4,
 "nbformat_minor": 5
}
